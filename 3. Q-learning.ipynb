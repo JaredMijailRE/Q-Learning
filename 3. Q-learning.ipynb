{
 "cells": [
  {
   "cell_type": "markdown",
   "id": "7e0c096b",
   "metadata": {},
   "source": [
    "### Q-Learning\n",
    "\n",
    "Es una aplicacion basada en un MDP, donde el agente aprende una politica optima sin conocer las funciones de transicion $P_a(s,s')$ y recompensa $R_a(s,s')$ del MDP. El agente aprende a traves de la interaccion con el entorno.\n",
    "\n",
    "\"For any finite Markov decision process, Q-learning finds an optimal policy, maximizing the expected value of the total reward over any and all successive steps, starting from the current state\"."
   ]
  }
 ],
 "metadata": {
  "language_info": {
   "name": "python"
  }
 },
 "nbformat": 4,
 "nbformat_minor": 5
}
