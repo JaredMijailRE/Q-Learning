{
 "cells": [
  {
   "cell_type": "markdown",
   "id": "e3050c76",
   "metadata": {},
   "source": [
    "### Proceso Estocastico \n",
    "\n",
    "Es un conjunto de variables aleatorias {$X_t: t \\in T$}, $X_t$ respresenta el estado del sistema en el tiempo t, T conjunto indices  discretos o continuos. $X_t$ es una variable aleatoria definida en un espacio de probabilidad $(\\Omega, F, P)$ y toma valores en un espacio de estados S.\n",
    "\n",
    "Modela como cambia un fenomeno con el tiempo cuando existe incertidumbre."
   ]
  },
  {
   "cell_type": "markdown",
   "id": "25379b87",
   "metadata": {
    "vscode": {
     "languageId": "plaintext"
    }
   },
   "source": [
    "### Cadena de Markov\n",
    "\n",
    "Es un tipo especial de **proceso estocastico discreto**, donde la probabilidad de que ocurra un evento depende unicamente \n",
    "del evento anterior. {$X_n:n=0,1,2 ...$}, con espacio de estados S, discreto. Estas cuentan con un espacio de estados discreto. Hay dos tipos (DTMC y CTMC) discrete-time markov chain y continous markov chain.\n",
    "\n",
    "- **Propiedad de Markov**: $P(X_{n+1} | X_0, \\dots, X_n) = P(X_{n+1} | X_n)$, solo importa el presenta para determinar el futuro. \"memorylessness\""
   ]
  }
 ],
 "metadata": {
  "language_info": {
   "name": "python"
  }
 },
 "nbformat": 4,
 "nbformat_minor": 5
}
